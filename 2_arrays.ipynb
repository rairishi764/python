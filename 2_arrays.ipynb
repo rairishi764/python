{
 "cells": [
  {
   "cell_type": "code",
   "execution_count": 14,
   "id": "72d7d4b6",
   "metadata": {},
   "outputs": [
    {
     "name": "stdout",
     "output_type": "stream",
     "text": [
      "array('i', [1, 2, 3, 4, 5])\n"
     ]
    }
   ],
   "source": [
    "\n",
    "#Arrays are stored contiguously in memory\n",
    "# 2D arrays also are stored linearly row wise\n",
    "# array is not built in data model in python, list is\n",
    "\n",
    "from array import *\n",
    "a1 = array('i',[1,2,3,4,5]) \n",
    "print(a1)\n"
   ]
  },
  {
   "cell_type": "code",
   "execution_count": 15,
   "id": "3b976ab0",
   "metadata": {},
   "outputs": [
    {
     "name": "stdout",
     "output_type": "stream",
     "text": [
      "array('i', [1, 2, 3, 4, 5, 9])\n",
      "array('i', [4, 1, 2, 3, 4, 5, 9])\n"
     ]
    }
   ],
   "source": [
    "#insert shifts the array elements and inserts in middle\n",
    "a1.insert(6,9) # O(n) complexity as moving of elements happens \n",
    "print(a1)\n",
    "a1.insert(0,4)\n",
    "print(a1)"
   ]
  },
  {
   "cell_type": "code",
   "execution_count": 16,
   "id": "73e718f1",
   "metadata": {},
   "outputs": [
    {
     "name": "stdout",
     "output_type": "stream",
     "text": [
      "4 1 2 3 4 5 9 "
     ]
    }
   ],
   "source": [
    "# traversal\n",
    "for i in a1:  # O(n) \n",
    "    print (i, end= ' ')"
   ]
  },
  {
   "cell_type": "code",
   "execution_count": 17,
   "id": "a5c6d938",
   "metadata": {},
   "outputs": [
    {
     "name": "stdout",
     "output_type": "stream",
     "text": [
      "array('i', [4, 1, 2, 3, 4, 5, 9])\n",
      "5\n"
     ]
    }
   ],
   "source": [
    "def searchArray(array, value):\n",
    "    print (array)\n",
    "    for i in array:\n",
    "        if i==value:\n",
    "            return array.index(value) #index of given value sent\n",
    "\n",
    "print(searchArray(a1, 5))"
   ]
  }
 ],
 "metadata": {
  "kernelspec": {
   "display_name": "Python 3.10.2 64-bit",
   "language": "python",
   "name": "python3"
  },
  "language_info": {
   "codemirror_mode": {
    "name": "ipython",
    "version": 3
   },
   "file_extension": ".py",
   "mimetype": "text/x-python",
   "name": "python",
   "nbconvert_exporter": "python",
   "pygments_lexer": "ipython3",
   "version": "3.10.2"
  },
  "vscode": {
   "interpreter": {
    "hash": "aee8b7b246df8f9039afb4144a1f6fd8d2ca17a180786b69acc140d282b71a49"
   }
  }
 },
 "nbformat": 4,
 "nbformat_minor": 5
}
